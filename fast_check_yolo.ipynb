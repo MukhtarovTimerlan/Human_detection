{
 "cells": [
  {
   "cell_type": "code",
   "execution_count": 1,
   "id": "b904f2bb",
   "metadata": {},
   "outputs": [
    {
     "name": "stdout",
     "output_type": "stream",
     "text": [
      "Downloading https://github.com/ultralytics/assets/releases/download/v8.3.0/yolov8n.pt to 'yolov8n.pt'...\n"
     ]
    },
    {
     "name": "stderr",
     "output_type": "stream",
     "text": [
      "100%|██████████| 6.25M/6.25M [00:00<00:00, 8.65MB/s]"
     ]
    },
    {
     "name": "stdout",
     "output_type": "stream",
     "text": [
      "Ultralytics 8.3.133 🚀 Python-3.11.11 torch-2.7.0 CPU (Apple M2)\n"
     ]
    },
    {
     "name": "stderr",
     "output_type": "stream",
     "text": [
      "\n"
     ]
    },
    {
     "name": "stdout",
     "output_type": "stream",
     "text": [
      "YOLOv8n summary (fused): 72 layers, 3,151,904 parameters, 0 gradients, 8.7 GFLOPs\n",
      "\n",
      "\u001b[34m\u001b[1mPyTorch:\u001b[0m starting from 'yolov8n.pt' with input shape (1, 3, 640, 640) BCHW and output shape(s) (1, 84, 8400) (6.2 MB)\n",
      "\u001b[31m\u001b[1mrequirements:\u001b[0m Ultralytics requirement ['onnxslim>=0.1.46'] not found, attempting AutoUpdate...\n",
      "Collecting onnxslim>=0.1.46\n",
      "  Downloading onnxslim-0.1.52-py3-none-any.whl.metadata (5.0 kB)\n",
      "Requirement already satisfied: onnx in /opt/anaconda3/envs/my_venv/lib/python3.11/site-packages (from onnxslim>=0.1.46) (1.18.0)\n",
      "Requirement already satisfied: sympy in /opt/anaconda3/envs/my_venv/lib/python3.11/site-packages (from onnxslim>=0.1.46) (1.14.0)\n",
      "Requirement already satisfied: packaging in /opt/anaconda3/envs/my_venv/lib/python3.11/site-packages (from onnxslim>=0.1.46) (24.2)\n",
      "Requirement already satisfied: numpy>=1.22 in /opt/anaconda3/envs/my_venv/lib/python3.11/site-packages (from onnx->onnxslim>=0.1.46) (2.2.5)\n",
      "Requirement already satisfied: protobuf>=4.25.1 in /opt/anaconda3/envs/my_venv/lib/python3.11/site-packages (from onnx->onnxslim>=0.1.46) (6.30.2)\n",
      "Requirement already satisfied: typing_extensions>=4.7.1 in /opt/anaconda3/envs/my_venv/lib/python3.11/site-packages (from onnx->onnxslim>=0.1.46) (4.13.2)\n",
      "Requirement already satisfied: mpmath<1.4,>=1.1.0 in /opt/anaconda3/envs/my_venv/lib/python3.11/site-packages (from sympy->onnxslim>=0.1.46) (1.3.0)\n",
      "Downloading onnxslim-0.1.52-py3-none-any.whl (145 kB)\n",
      "Installing collected packages: onnxslim\n",
      "Successfully installed onnxslim-0.1.52\n",
      "\n",
      "\u001b[31m\u001b[1mrequirements:\u001b[0m AutoUpdate success ✅ 1.4s, installed 1 package: ['onnxslim>=0.1.46']\n",
      "WARNING ⚠️ \u001b[31m\u001b[1mrequirements:\u001b[0m \u001b[1mRestart runtime or rerun command for updates to take effect\u001b[0m\n",
      "\n",
      "\n",
      "\u001b[34m\u001b[1mONNX:\u001b[0m starting export with onnx 1.18.0 opset 19...\n",
      "\u001b[34m\u001b[1mONNX:\u001b[0m slimming with onnxslim 0.1.52...\n",
      "\u001b[34m\u001b[1mONNX:\u001b[0m export success ✅ 2.7s, saved as 'yolov8n.onnx' (12.2 MB)\n",
      "\n",
      "Export complete (3.0s)\n",
      "Results saved to \u001b[1m/Users/tima/Desktop/DL_PRACTICE\u001b[0m\n",
      "Predict:         yolo predict task=detect model=yolov8n.onnx imgsz=640  \n",
      "Validate:        yolo val task=detect model=yolov8n.onnx imgsz=640 data=coco.yaml  \n",
      "Visualize:       https://netron.app\n"
     ]
    },
    {
     "data": {
      "text/plain": [
       "'yolov8n.onnx'"
      ]
     },
     "execution_count": 1,
     "metadata": {},
     "output_type": "execute_result"
    }
   ],
   "source": [
    "from ultralytics import YOLO\n",
    "\n",
    "model = YOLO(\"yolov8n.pt\")\n",
    "model.export(format=\"onnx\", imgsz=640)"
   ]
  },
  {
   "cell_type": "code",
   "execution_count": null,
   "id": "ab4a2175-a120-4be0-a02a-1d86a7a476a3",
   "metadata": {},
   "outputs": [
    {
     "name": "stdout",
     "output_type": "stream",
     "text": [
      "Loading yolov8n.onnx for ONNX Runtime inference...\n",
      "Using ONNX Runtime CPUExecutionProvider\n"
     ]
    },
    {
     "ename": "",
     "evalue": "",
     "output_type": "error",
     "traceback": [
      "\u001b[1;31mПри выполнении кода в текущей ячейке или предыдущей ячейке ядро аварийно завершило работу. \n",
      "\u001b[1;31mПроверьте код в ячейках, чтобы определить возможную причину сбоя. \n",
      "\u001b[1;31mЩелкните <a href='https://aka.ms/vscodeJupyterKernelCrash'>здесь</a>, чтобы получить дополнительные сведения. \n",
      "\u001b[1;31mПодробнее см. в <a href='command:jupyter.viewOutput'>журнале Jupyter</a>."
     ]
    }
   ],
   "source": [
    "import cv2\n",
    "from ultralytics import YOLO\n",
    "\n",
    "\n",
    "model = YOLO(\"yolov8n.onnx\",task='detect')  # Оптимизированная версия\n",
    "\n",
    "cap = cv2.VideoCapture(\"homework_Aizat.mp4\")\n",
    "frame_skip = 15  # Пропуск кадров\n",
    "\n",
    "while cap.isOpened():\n",
    "    ret, frame = cap.read()\n",
    "    if not ret:\n",
    "        break\n",
    "\n",
    "    # Пропуск кадров\n",
    "    for _ in range(frame_skip):\n",
    "        cap.grab()\n",
    "\n",
    "    # Детекция\n",
    "    results = model(frame, imgsz=640, verbose=False)  # Уменьшенное разрешение\n",
    "    boxes = results[0].boxes.xyxy.cpu().numpy()\n",
    "    classes = results[0].boxes.cls.cpu().numpy()\n",
    "\n",
    "    # Отрисовка боксов для людей (класс 0 в COCO)\n",
    "    for box, cls in zip(boxes, classes):\n",
    "        if cls == 0:\n",
    "            x1, y1, x2, y2 = map(int, box)\n",
    "            cv2.rectangle(frame, (x1, y1), (x2, y2), (0, 255, 0), 2)\n",
    "\n",
    "    cv2.imshow(\"Output\", frame)\n",
    "    if cv2.waitKey(1) == ord(\"q\"):\n",
    "        break\n",
    "\n",
    "cap.release()\n",
    "cv2.destroyAllWindows()"
   ]
  },
  {
   "cell_type": "code",
   "execution_count": null,
   "id": "2cdc2f50",
   "metadata": {},
   "outputs": [],
   "source": []
  }
 ],
 "metadata": {
  "kernelspec": {
   "display_name": "my_venv",
   "language": "python",
   "name": "python3"
  },
  "language_info": {
   "codemirror_mode": {
    "name": "ipython",
    "version": 3
   },
   "file_extension": ".py",
   "mimetype": "text/x-python",
   "name": "python",
   "nbconvert_exporter": "python",
   "pygments_lexer": "ipython3",
   "version": "3.11.11"
  }
 },
 "nbformat": 4,
 "nbformat_minor": 5
}
